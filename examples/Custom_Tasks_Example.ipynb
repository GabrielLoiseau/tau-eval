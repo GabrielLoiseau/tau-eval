{
 "cells": [
  {
   "cell_type": "markdown",
   "metadata": {
    "id": "MVe7AjqesET0"
   },
   "source": [
    "# Implementing Custom Tasks in Tau-Eval\n",
    "\n",
    "This notebook guides users in creating their own evaluation tasks within the Tau-Eval framework. While Tau-Eval provides several built-in tasks, users might have specific datasets or evaluation methodologies that require a custom task implementation.\n",
    "\n",
    "## Section 1: Understanding CustomTasks\n",
    "\n",
    "Tau-Eval offers a base class  `tau_eval.tasks.CustomTask` to facilitate the creation of new tasks, especially when tasks do not need model fine-tuning that can be expressed using `tasksource`. When you create a class that inherits from `CustomTask`, it will mostly involve a Hugging Face Dataset which will contain at least your original texts.The most crucial part is that **the user needs to implement the `evaluate` method**. This method defines how the outputs of an anonymization model (applied to your task's input texts) are evaluated to produce metrics."
   ]
  },
  {
   "cell_type": "markdown",
   "metadata": {
    "id": "UcheoqgCtFiK"
   },
   "source": [
    "## Section 2: Creating a CustomTask\n",
    "\n",
    "([Pilán et al. 2022](https://aclanthology.org/2022.cl-4.19/#)) introduced the Text Anonymization Benchmark (TAB), which is a 1,268 English-language court cases dataset from the European Court of Human Rights (ECHR) enriched with comprehensive annotations about the personal information appearing in each document, including their semantic category, identifier type, confidential attributes, and co-reference relations. It is designed to enable a more granular aspect en span-based anonymization evaluation. Let's implement this example task within Tau-Eval."
   ]
  },
  {
   "cell_type": "code",
   "execution_count": null,
   "metadata": {
    "id": "9dI7W-b4uTvc"
   },
   "outputs": [],
   "source": [
    "from tau_eval.tasks import CustomTask\n",
    "from datasets import load_dataset\n",
    "import difflib\n",
    "\n",
    "class TextAnonymizationBenchmark(CustomTask):\n",
    "  def __init__(self):\n",
    "    self.name = \"text-anonymization-benchmark\"\n",
    "    self.dataset = load_dataset(\"ildpil/text-anonymization-benchmark\")[\"test\"]\n",
    "    self.gold_spans: dict[str, set[tuple[int, int]]] = {}\n",
    "    self.original_texts: dict[str, str] = {}\n",
    "    self.doc_ids: list[str] = []\n",
    "\n",
    "    # Pre-process the dataset to extract necessary information\n",
    "    for sample in self.dataset:\n",
    "        doc_id = sample['doc_id']\n",
    "        self.doc_ids.append(doc_id)\n",
    "        self.original_texts[doc_id] = sample['text']\n",
    "\n",
    "        # Filter mentions that need to be masked and store their spans\n",
    "        spans_to_mask = set()\n",
    "        for mention in sample['entity_mentions']:\n",
    "            if mention['identifier_type'] in ['DIRECT', 'QUASI']:\n",
    "                spans_to_mask.add((mention['start_offset'], mention['end_offset']))\n",
    "        self.gold_spans[doc_id] = spans_to_mask\n",
    "\n",
    "  def _get_masked_spans_from_diff(self, original_text: str, anonymized_text: str) -> set[tuple[int, int]]:\n",
    "    \"\"\"\n",
    "    Compares original and anonymized texts to find masked spans.\n",
    "    A masked span is any part of the original text that was deleted or replaced.\n",
    "    \"\"\"\n",
    "    matcher = difflib.SequenceMatcher(a=original_text, b=anonymized_text, autojunk=False)\n",
    "    spans = set()\n",
    "    for tag, i1, i2, j1, j2 in matcher.get_opcodes():\n",
    "        if tag in ['delete', 'replace']:\n",
    "            spans.add((i1, i2))\n",
    "    return spans\n",
    "\n",
    "  def evaluate(self, new_texts: list[str]) -> dict:\n",
    "      \"\"\"\n",
    "      Evaluates the anonymization performance of the provided texts.\n",
    "\n",
    "      Args:\n",
    "          new_texts: A list of anonymized strings. The order must correspond\n",
    "                                  to the order of the documents in the initial dataset.\n",
    "\n",
    "      Returns:\n",
    "          A dictionary containing evaluation metrics.\n",
    "      \"\"\"\n",
    "\n",
    "      # Initialize counters for metrics\n",
    "      total_tp_mention, total_fp_mention, total_fn_mention = 0, 0, 0\n",
    "      total_tp_token, total_fp_token, total_fn_token = 0, 0, 0\n",
    "\n",
    "      for i, anonymized_text in enumerate(new_texts):\n",
    "          doc_id = self.doc_ids[i]\n",
    "          original_text = self.original_texts[doc_id]\n",
    "\n",
    "          # 1. Get system-generated spans and gold-standard spans\n",
    "          system_spans = self._get_masked_spans_from_diff(original_text, anonymized_text)\n",
    "          gold_spans = self.gold_spans[doc_id]\n",
    "\n",
    "          # 2. Calculate Strict Mention-Level Metrics\n",
    "          # These are exact matches between system spans and gold spans.\n",
    "          tp_mention = len(system_spans.intersection(gold_spans))\n",
    "          fp_mention = len(system_spans - gold_spans)\n",
    "          fn_mention = len(gold_spans - system_spans)\n",
    "\n",
    "          total_tp_mention += tp_mention\n",
    "          total_fp_mention += fp_mention\n",
    "          total_fn_mention += fn_mention\n",
    "\n",
    "\n",
    "      # 3. Calculate final Precision, Recall, and F1 scores\n",
    "      def calculate_metrics(tp, fp, fn):\n",
    "          precision = tp / (tp + fp) if (tp + fp) > 0 else 0.0\n",
    "          recall = tp / (tp + fn) if (tp + fn) > 0 else 0.0\n",
    "          f1 = 2 * (precision * recall) / (precision + recall) if (precision + recall) > 0 else 0.0\n",
    "          return precision, recall, f1\n",
    "\n",
    "      mention_precision, mention_recall, mention_f1 = calculate_metrics(total_tp_mention, total_fp_mention, total_fn_mention)\n",
    "      token_precision, token_recall, token_f1 = calculate_metrics(total_tp_token, total_fp_token, total_fn_token)\n",
    "\n",
    "      results = {\n",
    "          \"entity_precision\": mention_precision,\n",
    "          \"entity_recall\": mention_recall,\n",
    "          \"entit_f1\": mention_f1,\n",
    "      }\n",
    "\n",
    "      return results"
   ]
  },
  {
   "cell_type": "markdown",
   "metadata": {
    "id": "50wilrAtwaLZ"
   },
   "source": [
    "## Section 3: Using the `CustomTask` in an Experiment\n",
    "\n",
    "Integrating your `CustomTask` into a Tau-Eval `Experiment` is straightforward. You'll pass an instance of your custom task class to the `Experiment` constructor.\n"
   ]
  },
  {
   "cell_type": "code",
   "execution_count": null,
   "metadata": {
    "id": "11I2acJmwgPN"
   },
   "outputs": [],
   "source": [
    "from tau_eval import Experiment\n",
    "# We will test our task using presidio pseudonymization engine\n",
    "from tau_eval.models.presidio import EntityDeletion\n",
    "\n",
    "# Instanciate the model\n",
    "model = EntityDeletion()\n",
    "\n",
    "# Instanciate the task\n",
    "task = TextAnonymizationBenchmark()"
   ]
  },
  {
   "cell_type": "code",
   "execution_count": null,
   "metadata": {
    "colab": {
     "base_uri": "https://localhost:8080/",
     "height": 184,
     "referenced_widgets": [
      "1901682f4a7145b58dd5076feb8f7371",
      "31036638bddf46c5a52be8924a03d61b",
      "c25eb0746cf54d3e9e53b3d36d92e185",
      "ce52237fbf334e6a9f2300d7750e86af",
      "67f72ec00ad34559a6be0da782795d09",
      "f2ce539c5afe4877b3ac90b6386efbee",
      "b3c540a91d374d3aaffc66395a1506fa",
      "7f527982c16a4dce83e0650d5803de84",
      "10163e01b26e46188267af5b213d2a8c",
      "82a241ce010142a3bc410824d1beeb87",
      "1885836d26df427590287140c3355a96"
     ]
    },
    "executionInfo": {
     "elapsed": 1184501,
     "status": "ok",
     "timestamp": 1750432068890,
     "user": {
      "displayName": "Laggia",
      "userId": "09941207851168012220"
     },
     "user_tz": -120
    },
    "id": "diKUcqxsw9Y2",
    "outputId": "501c9930-b0eb-4987-eeba-954d56b91ef9"
   },
   "outputs": [
    {
     "data": {
      "text/html": [
       "<pre style=\"white-space:pre;overflow-x:auto;line-height:normal;font-family:Menlo,'DejaVu Sans Mono',consolas,'Courier New',monospace\"><span style=\"color: #7fbfbf; text-decoration-color: #7fbfbf\">[06/20/25 14:47:51] </span><span style=\"color: #000080; text-decoration-color: #000080\">INFO    </span> Running experiment<span style=\"color: #808000; text-decoration-color: #808000\">...</span>                                                 <a href=\"file:///usr/local/lib/python3.11/dist-packages/tau_eval/experiment.py\" target=\"_blank\"><span style=\"color: #7f7f7f; text-decoration-color: #7f7f7f\">experiment.py</span></a><span style=\"color: #7f7f7f; text-decoration-color: #7f7f7f\">:</span><a href=\"file:///usr/local/lib/python3.11/dist-packages/tau_eval/experiment.py#67\" target=\"_blank\"><span style=\"color: #7f7f7f; text-decoration-color: #7f7f7f\">67</span></a>\n",
       "</pre>\n"
      ],
      "text/plain": [
       "\u001b[2;36m[06/20/25 14:47:51]\u001b[0m\u001b[2;36m \u001b[0m\u001b[34mINFO    \u001b[0m Running experiment\u001b[33m...\u001b[0m                                                 \u001b]8;id=516145;file:///usr/local/lib/python3.11/dist-packages/tau_eval/experiment.py\u001b\\\u001b[2mexperiment.py\u001b[0m\u001b]8;;\u001b\\\u001b[2m:\u001b[0m\u001b]8;id=545093;file:///usr/local/lib/python3.11/dist-packages/tau_eval/experiment.py#67\u001b\\\u001b[2m67\u001b[0m\u001b]8;;\u001b\\\n"
      ]
     },
     "metadata": {},
     "output_type": "display_data"
    },
    {
     "name": "stderr",
     "output_type": "stream",
     "text": [
      "INFO:tau_eval.logger:Running experiment...\n"
     ]
    },
    {
     "data": {
      "text/html": [
       "<pre style=\"white-space:pre;overflow-x:auto;line-height:normal;font-family:Menlo,'DejaVu Sans Mono',consolas,'Courier New',monospace\"><span style=\"color: #7fbfbf; text-decoration-color: #7fbfbf\">                    </span><span style=\"color: #000080; text-decoration-color: #000080\">INFO    </span> Running task: <span style=\"color: #008080; text-decoration-color: #008080; font-weight: bold\">0</span>                                                       <a href=\"file:///usr/local/lib/python3.11/dist-packages/tau_eval/experiment.py\" target=\"_blank\"><span style=\"color: #7f7f7f; text-decoration-color: #7f7f7f\">experiment.py</span></a><span style=\"color: #7f7f7f; text-decoration-color: #7f7f7f\">:</span><a href=\"file:///usr/local/lib/python3.11/dist-packages/tau_eval/experiment.py#71\" target=\"_blank\"><span style=\"color: #7f7f7f; text-decoration-color: #7f7f7f\">71</span></a>\n",
       "</pre>\n"
      ],
      "text/plain": [
       "\u001b[2;36m                   \u001b[0m\u001b[2;36m \u001b[0m\u001b[34mINFO    \u001b[0m Running task: \u001b[1;36m0\u001b[0m                                                       \u001b]8;id=190001;file:///usr/local/lib/python3.11/dist-packages/tau_eval/experiment.py\u001b\\\u001b[2mexperiment.py\u001b[0m\u001b]8;;\u001b\\\u001b[2m:\u001b[0m\u001b]8;id=213876;file:///usr/local/lib/python3.11/dist-packages/tau_eval/experiment.py#71\u001b\\\u001b[2m71\u001b[0m\u001b]8;;\u001b\\\n"
      ]
     },
     "metadata": {},
     "output_type": "display_data"
    },
    {
     "name": "stderr",
     "output_type": "stream",
     "text": [
      "INFO:tau_eval.logger:Running task: 0\n"
     ]
    },
    {
     "data": {
      "text/html": [
       "<pre style=\"white-space:pre;overflow-x:auto;line-height:normal;font-family:Menlo,'DejaVu Sans Mono',consolas,'Courier New',monospace\"><span style=\"color: #7fbfbf; text-decoration-color: #7fbfbf\">[06/20/25 14:51:39] </span><span style=\"color: #008000; text-decoration-color: #008000\">DEBUG   </span> Evaluating model <span style=\"color: #008080; text-decoration-color: #008080; font-weight: bold\">0</span>                                                        <a href=\"file:///usr/local/lib/python3.11/dist-packages/tau_eval/utils.py\" target=\"_blank\"><span style=\"color: #7f7f7f; text-decoration-color: #7f7f7f\">utils.py</span></a><span style=\"color: #7f7f7f; text-decoration-color: #7f7f7f\">:</span><a href=\"file:///usr/local/lib/python3.11/dist-packages/tau_eval/utils.py#237\" target=\"_blank\"><span style=\"color: #7f7f7f; text-decoration-color: #7f7f7f\">237</span></a>\n",
       "</pre>\n"
      ],
      "text/plain": [
       "\u001b[2;36m[06/20/25 14:51:39]\u001b[0m\u001b[2;36m \u001b[0m\u001b[32mDEBUG   \u001b[0m Evaluating model \u001b[1;36m0\u001b[0m                                                        \u001b]8;id=572974;file:///usr/local/lib/python3.11/dist-packages/tau_eval/utils.py\u001b\\\u001b[2mutils.py\u001b[0m\u001b]8;;\u001b\\\u001b[2m:\u001b[0m\u001b]8;id=473811;file:///usr/local/lib/python3.11/dist-packages/tau_eval/utils.py#237\u001b\\\u001b[2m237\u001b[0m\u001b]8;;\u001b\\\n"
      ]
     },
     "metadata": {},
     "output_type": "display_data"
    },
    {
     "name": "stderr",
     "output_type": "stream",
     "text": [
      "DEBUG:tau_eval.logger:Evaluating model 0\n"
     ]
    },
    {
     "data": {
      "application/vnd.jupyter.widget-view+json": {
       "model_id": "1901682f4a7145b58dd5076feb8f7371",
       "version_major": 2,
       "version_minor": 0
      },
      "text/plain": [
       "Map:   0%|          | 0/555 [00:00<?, ? examples/s]"
      ]
     },
     "metadata": {},
     "output_type": "display_data"
    },
    {
     "data": {
      "text/html": [
       "<pre style=\"white-space:pre;overflow-x:auto;line-height:normal;font-family:Menlo,'DejaVu Sans Mono',consolas,'Courier New',monospace\"><span style=\"color: #7fbfbf; text-decoration-color: #7fbfbf\">[06/20/25 15:07:35] </span><span style=\"color: #000080; text-decoration-color: #000080\">INFO    </span> Results saved                                                         <a href=\"file:///usr/local/lib/python3.11/dist-packages/tau_eval/experiment.py\" target=\"_blank\"><span style=\"color: #7f7f7f; text-decoration-color: #7f7f7f\">experiment.py</span></a><span style=\"color: #7f7f7f; text-decoration-color: #7f7f7f\">:</span><a href=\"file:///usr/local/lib/python3.11/dist-packages/tau_eval/experiment.py#92\" target=\"_blank\"><span style=\"color: #7f7f7f; text-decoration-color: #7f7f7f\">92</span></a>\n",
       "</pre>\n"
      ],
      "text/plain": [
       "\u001b[2;36m[06/20/25 15:07:35]\u001b[0m\u001b[2;36m \u001b[0m\u001b[34mINFO    \u001b[0m Results saved                                                         \u001b]8;id=788749;file:///usr/local/lib/python3.11/dist-packages/tau_eval/experiment.py\u001b\\\u001b[2mexperiment.py\u001b[0m\u001b]8;;\u001b\\\u001b[2m:\u001b[0m\u001b]8;id=951784;file:///usr/local/lib/python3.11/dist-packages/tau_eval/experiment.py#92\u001b\\\u001b[2m92\u001b[0m\u001b]8;;\u001b\\\n"
      ]
     },
     "metadata": {},
     "output_type": "display_data"
    },
    {
     "name": "stderr",
     "output_type": "stream",
     "text": [
      "INFO:tau_eval.logger:Results saved\n"
     ]
    }
   ],
   "source": [
    "experiment = Experiment([model],[\"rouge\"],[task])\n",
    "experiment.run()"
   ]
  },
  {
   "cell_type": "markdown",
   "metadata": {
    "id": "ahJw7DAFxJpx"
   },
   "source": [
    "# 4. Display results\n",
    "\n",
    "Results are stored in a json file and inside the `Experiment` objects, you can visualize them using `Experiment.summary()`"
   ]
  },
  {
   "cell_type": "code",
   "execution_count": null,
   "metadata": {
    "id": "2mVeHneOxXAQ"
   },
   "outputs": [],
   "source": [
    "experiment.summary()[\"text-anonymization-benchmark\"]"
   ]
  }
 ],
 "metadata": {
  "colab": {
   "authorship_tag": "ABX9TyMdJg0/BCOI++3i7GwmpHBG",
   "provenance": []
  },
  "kernelspec": {
   "display_name": "Python 3",
   "name": "python3"
  },
  "language_info": {
   "name": "python"
  },
  "widgets": {
   "application/vnd.jupyter.widget-state+json": {
    "10163e01b26e46188267af5b213d2a8c": {
     "model_module": "@jupyter-widgets/controls",
     "model_module_version": "1.5.0",
     "model_name": "ProgressStyleModel",
     "state": {
      "_model_module": "@jupyter-widgets/controls",
      "_model_module_version": "1.5.0",
      "_model_name": "ProgressStyleModel",
      "_view_count": null,
      "_view_module": "@jupyter-widgets/base",
      "_view_module_version": "1.2.0",
      "_view_name": "StyleView",
      "bar_color": null,
      "description_width": ""
     }
    },
    "1885836d26df427590287140c3355a96": {
     "model_module": "@jupyter-widgets/controls",
     "model_module_version": "1.5.0",
     "model_name": "DescriptionStyleModel",
     "state": {
      "_model_module": "@jupyter-widgets/controls",
      "_model_module_version": "1.5.0",
      "_model_name": "DescriptionStyleModel",
      "_view_count": null,
      "_view_module": "@jupyter-widgets/base",
      "_view_module_version": "1.2.0",
      "_view_name": "StyleView",
      "description_width": ""
     }
    },
    "1901682f4a7145b58dd5076feb8f7371": {
     "model_module": "@jupyter-widgets/controls",
     "model_module_version": "1.5.0",
     "model_name": "HBoxModel",
     "state": {
      "_dom_classes": [],
      "_model_module": "@jupyter-widgets/controls",
      "_model_module_version": "1.5.0",
      "_model_name": "HBoxModel",
      "_view_count": null,
      "_view_module": "@jupyter-widgets/controls",
      "_view_module_version": "1.5.0",
      "_view_name": "HBoxView",
      "box_style": "",
      "children": [
       "IPY_MODEL_31036638bddf46c5a52be8924a03d61b",
       "IPY_MODEL_c25eb0746cf54d3e9e53b3d36d92e185",
       "IPY_MODEL_ce52237fbf334e6a9f2300d7750e86af"
      ],
      "layout": "IPY_MODEL_67f72ec00ad34559a6be0da782795d09"
     }
    },
    "31036638bddf46c5a52be8924a03d61b": {
     "model_module": "@jupyter-widgets/controls",
     "model_module_version": "1.5.0",
     "model_name": "HTMLModel",
     "state": {
      "_dom_classes": [],
      "_model_module": "@jupyter-widgets/controls",
      "_model_module_version": "1.5.0",
      "_model_name": "HTMLModel",
      "_view_count": null,
      "_view_module": "@jupyter-widgets/controls",
      "_view_module_version": "1.5.0",
      "_view_name": "HTMLView",
      "description": "",
      "description_tooltip": null,
      "layout": "IPY_MODEL_f2ce539c5afe4877b3ac90b6386efbee",
      "placeholder": "​",
      "style": "IPY_MODEL_b3c540a91d374d3aaffc66395a1506fa",
      "value": "Map: 100%"
     }
    },
    "67f72ec00ad34559a6be0da782795d09": {
     "model_module": "@jupyter-widgets/base",
     "model_module_version": "1.2.0",
     "model_name": "LayoutModel",
     "state": {
      "_model_module": "@jupyter-widgets/base",
      "_model_module_version": "1.2.0",
      "_model_name": "LayoutModel",
      "_view_count": null,
      "_view_module": "@jupyter-widgets/base",
      "_view_module_version": "1.2.0",
      "_view_name": "LayoutView",
      "align_content": null,
      "align_items": null,
      "align_self": null,
      "border": null,
      "bottom": null,
      "display": null,
      "flex": null,
      "flex_flow": null,
      "grid_area": null,
      "grid_auto_columns": null,
      "grid_auto_flow": null,
      "grid_auto_rows": null,
      "grid_column": null,
      "grid_gap": null,
      "grid_row": null,
      "grid_template_areas": null,
      "grid_template_columns": null,
      "grid_template_rows": null,
      "height": null,
      "justify_content": null,
      "justify_items": null,
      "left": null,
      "margin": null,
      "max_height": null,
      "max_width": null,
      "min_height": null,
      "min_width": null,
      "object_fit": null,
      "object_position": null,
      "order": null,
      "overflow": null,
      "overflow_x": null,
      "overflow_y": null,
      "padding": null,
      "right": null,
      "top": null,
      "visibility": null,
      "width": null
     }
    },
    "7f527982c16a4dce83e0650d5803de84": {
     "model_module": "@jupyter-widgets/base",
     "model_module_version": "1.2.0",
     "model_name": "LayoutModel",
     "state": {
      "_model_module": "@jupyter-widgets/base",
      "_model_module_version": "1.2.0",
      "_model_name": "LayoutModel",
      "_view_count": null,
      "_view_module": "@jupyter-widgets/base",
      "_view_module_version": "1.2.0",
      "_view_name": "LayoutView",
      "align_content": null,
      "align_items": null,
      "align_self": null,
      "border": null,
      "bottom": null,
      "display": null,
      "flex": null,
      "flex_flow": null,
      "grid_area": null,
      "grid_auto_columns": null,
      "grid_auto_flow": null,
      "grid_auto_rows": null,
      "grid_column": null,
      "grid_gap": null,
      "grid_row": null,
      "grid_template_areas": null,
      "grid_template_columns": null,
      "grid_template_rows": null,
      "height": null,
      "justify_content": null,
      "justify_items": null,
      "left": null,
      "margin": null,
      "max_height": null,
      "max_width": null,
      "min_height": null,
      "min_width": null,
      "object_fit": null,
      "object_position": null,
      "order": null,
      "overflow": null,
      "overflow_x": null,
      "overflow_y": null,
      "padding": null,
      "right": null,
      "top": null,
      "visibility": null,
      "width": null
     }
    },
    "82a241ce010142a3bc410824d1beeb87": {
     "model_module": "@jupyter-widgets/base",
     "model_module_version": "1.2.0",
     "model_name": "LayoutModel",
     "state": {
      "_model_module": "@jupyter-widgets/base",
      "_model_module_version": "1.2.0",
      "_model_name": "LayoutModel",
      "_view_count": null,
      "_view_module": "@jupyter-widgets/base",
      "_view_module_version": "1.2.0",
      "_view_name": "LayoutView",
      "align_content": null,
      "align_items": null,
      "align_self": null,
      "border": null,
      "bottom": null,
      "display": null,
      "flex": null,
      "flex_flow": null,
      "grid_area": null,
      "grid_auto_columns": null,
      "grid_auto_flow": null,
      "grid_auto_rows": null,
      "grid_column": null,
      "grid_gap": null,
      "grid_row": null,
      "grid_template_areas": null,
      "grid_template_columns": null,
      "grid_template_rows": null,
      "height": null,
      "justify_content": null,
      "justify_items": null,
      "left": null,
      "margin": null,
      "max_height": null,
      "max_width": null,
      "min_height": null,
      "min_width": null,
      "object_fit": null,
      "object_position": null,
      "order": null,
      "overflow": null,
      "overflow_x": null,
      "overflow_y": null,
      "padding": null,
      "right": null,
      "top": null,
      "visibility": null,
      "width": null
     }
    },
    "b3c540a91d374d3aaffc66395a1506fa": {
     "model_module": "@jupyter-widgets/controls",
     "model_module_version": "1.5.0",
     "model_name": "DescriptionStyleModel",
     "state": {
      "_model_module": "@jupyter-widgets/controls",
      "_model_module_version": "1.5.0",
      "_model_name": "DescriptionStyleModel",
      "_view_count": null,
      "_view_module": "@jupyter-widgets/base",
      "_view_module_version": "1.2.0",
      "_view_name": "StyleView",
      "description_width": ""
     }
    },
    "c25eb0746cf54d3e9e53b3d36d92e185": {
     "model_module": "@jupyter-widgets/controls",
     "model_module_version": "1.5.0",
     "model_name": "FloatProgressModel",
     "state": {
      "_dom_classes": [],
      "_model_module": "@jupyter-widgets/controls",
      "_model_module_version": "1.5.0",
      "_model_name": "FloatProgressModel",
      "_view_count": null,
      "_view_module": "@jupyter-widgets/controls",
      "_view_module_version": "1.5.0",
      "_view_name": "ProgressView",
      "bar_style": "success",
      "description": "",
      "description_tooltip": null,
      "layout": "IPY_MODEL_7f527982c16a4dce83e0650d5803de84",
      "max": 555,
      "min": 0,
      "orientation": "horizontal",
      "style": "IPY_MODEL_10163e01b26e46188267af5b213d2a8c",
      "value": 555
     }
    },
    "ce52237fbf334e6a9f2300d7750e86af": {
     "model_module": "@jupyter-widgets/controls",
     "model_module_version": "1.5.0",
     "model_name": "HTMLModel",
     "state": {
      "_dom_classes": [],
      "_model_module": "@jupyter-widgets/controls",
      "_model_module_version": "1.5.0",
      "_model_name": "HTMLModel",
      "_view_count": null,
      "_view_module": "@jupyter-widgets/controls",
      "_view_module_version": "1.5.0",
      "_view_name": "HTMLView",
      "description": "",
      "description_tooltip": null,
      "layout": "IPY_MODEL_82a241ce010142a3bc410824d1beeb87",
      "placeholder": "​",
      "style": "IPY_MODEL_1885836d26df427590287140c3355a96",
      "value": " 555/555 [02:16&lt;00:00,  2.43 examples/s]"
     }
    },
    "f2ce539c5afe4877b3ac90b6386efbee": {
     "model_module": "@jupyter-widgets/base",
     "model_module_version": "1.2.0",
     "model_name": "LayoutModel",
     "state": {
      "_model_module": "@jupyter-widgets/base",
      "_model_module_version": "1.2.0",
      "_model_name": "LayoutModel",
      "_view_count": null,
      "_view_module": "@jupyter-widgets/base",
      "_view_module_version": "1.2.0",
      "_view_name": "LayoutView",
      "align_content": null,
      "align_items": null,
      "align_self": null,
      "border": null,
      "bottom": null,
      "display": null,
      "flex": null,
      "flex_flow": null,
      "grid_area": null,
      "grid_auto_columns": null,
      "grid_auto_flow": null,
      "grid_auto_rows": null,
      "grid_column": null,
      "grid_gap": null,
      "grid_row": null,
      "grid_template_areas": null,
      "grid_template_columns": null,
      "grid_template_rows": null,
      "height": null,
      "justify_content": null,
      "justify_items": null,
      "left": null,
      "margin": null,
      "max_height": null,
      "max_width": null,
      "min_height": null,
      "min_width": null,
      "object_fit": null,
      "object_position": null,
      "order": null,
      "overflow": null,
      "overflow_x": null,
      "overflow_y": null,
      "padding": null,
      "right": null,
      "top": null,
      "visibility": null,
      "width": null
     }
    }
   }
  }
 },
 "nbformat": 4,
 "nbformat_minor": 0
}
